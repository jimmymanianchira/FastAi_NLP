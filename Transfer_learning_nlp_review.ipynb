{
  "nbformat": 4,
  "nbformat_minor": 0,
  "metadata": {
    "colab": {
      "name": "Transfer_learning_nlp_review.ipynb",
      "version": "0.3.2",
      "provenance": [],
      "include_colab_link": true
    },
    "kernelspec": {
      "name": "python3",
      "display_name": "Python 3"
    },
    "accelerator": "GPU"
  },
  "cells": [
    {
      "cell_type": "markdown",
      "metadata": {
        "id": "view-in-github",
        "colab_type": "text"
      },
      "source": [
        "<a href=\"https://colab.research.google.com/github/jimmymanianchira/FastAi_NLP/blob/master/Transfer_learning_nlp_review.ipynb\" target=\"_parent\"><img src=\"https://colab.research.google.com/assets/colab-badge.svg\" alt=\"Open In Colab\"/></a>"
      ]
    },
    {
      "cell_type": "code",
      "metadata": {
        "id": "nLiWGGIxzC_t",
        "colab_type": "code",
        "colab": {}
      },
      "source": [
        "from google.colab import files\n"
      ],
      "execution_count": 0,
      "outputs": []
    },
    {
      "cell_type": "markdown",
      "metadata": {
        "id": "_YpmSUZMzKhn",
        "colab_type": "text"
      },
      "source": [
        "Quick Start: Training an IMDb sentiment model with ULMFiT"
      ]
    },
    {
      "cell_type": "code",
      "metadata": {
        "id": "Lgc4kLrOzLKf",
        "colab_type": "code",
        "colab": {}
      },
      "source": [
        "from fastai.text import *"
      ],
      "execution_count": 0,
      "outputs": []
    },
    {
      "cell_type": "code",
      "metadata": {
        "id": "W-jB5d9AzPui",
        "colab_type": "code",
        "colab": {
          "base_uri": "https://localhost:8080/",
          "height": 35
        },
        "outputId": "053d752e-a59d-4fe3-d536-cde73b243806"
      },
      "source": [
        "URLs.IMDB_SAMPLE"
      ],
      "execution_count": 3,
      "outputs": [
        {
          "output_type": "execute_result",
          "data": {
            "text/plain": [
              "'http://files.fast.ai/data/examples/imdb_sample'"
            ]
          },
          "metadata": {
            "tags": []
          },
          "execution_count": 3
        }
      ]
    },
    {
      "cell_type": "code",
      "metadata": {
        "id": "8qHokRGrzNIT",
        "colab_type": "code",
        "colab": {}
      },
      "source": [
        "path = untar_data(URLs.IMDB_SAMPLE)"
      ],
      "execution_count": 0,
      "outputs": []
    },
    {
      "cell_type": "code",
      "metadata": {
        "id": "QwjTmdYozRwx",
        "colab_type": "code",
        "colab": {
          "base_uri": "https://localhost:8080/",
          "height": 202
        },
        "outputId": "91f888fc-08d3-4071-95e4-487688652688"
      },
      "source": [
        "\n",
        "df = pd.read_csv(path/'texts.csv')\n",
        "df.head()"
      ],
      "execution_count": 5,
      "outputs": [
        {
          "output_type": "execute_result",
          "data": {
            "text/html": [
              "<div>\n",
              "<style scoped>\n",
              "    .dataframe tbody tr th:only-of-type {\n",
              "        vertical-align: middle;\n",
              "    }\n",
              "\n",
              "    .dataframe tbody tr th {\n",
              "        vertical-align: top;\n",
              "    }\n",
              "\n",
              "    .dataframe thead th {\n",
              "        text-align: right;\n",
              "    }\n",
              "</style>\n",
              "<table border=\"1\" class=\"dataframe\">\n",
              "  <thead>\n",
              "    <tr style=\"text-align: right;\">\n",
              "      <th></th>\n",
              "      <th>label</th>\n",
              "      <th>text</th>\n",
              "      <th>is_valid</th>\n",
              "    </tr>\n",
              "  </thead>\n",
              "  <tbody>\n",
              "    <tr>\n",
              "      <th>0</th>\n",
              "      <td>negative</td>\n",
              "      <td>Un-bleeping-believable! Meg Ryan doesn't even ...</td>\n",
              "      <td>False</td>\n",
              "    </tr>\n",
              "    <tr>\n",
              "      <th>1</th>\n",
              "      <td>positive</td>\n",
              "      <td>This is a extremely well-made film. The acting...</td>\n",
              "      <td>False</td>\n",
              "    </tr>\n",
              "    <tr>\n",
              "      <th>2</th>\n",
              "      <td>negative</td>\n",
              "      <td>Every once in a long while a movie will come a...</td>\n",
              "      <td>False</td>\n",
              "    </tr>\n",
              "    <tr>\n",
              "      <th>3</th>\n",
              "      <td>positive</td>\n",
              "      <td>Name just says it all. I watched this movie wi...</td>\n",
              "      <td>False</td>\n",
              "    </tr>\n",
              "    <tr>\n",
              "      <th>4</th>\n",
              "      <td>negative</td>\n",
              "      <td>This movie succeeds at being one of the most u...</td>\n",
              "      <td>False</td>\n",
              "    </tr>\n",
              "  </tbody>\n",
              "</table>\n",
              "</div>"
            ],
            "text/plain": [
              "      label                                               text  is_valid\n",
              "0  negative  Un-bleeping-believable! Meg Ryan doesn't even ...     False\n",
              "1  positive  This is a extremely well-made film. The acting...     False\n",
              "2  negative  Every once in a long while a movie will come a...     False\n",
              "3  positive  Name just says it all. I watched this movie wi...     False\n",
              "4  negative  This movie succeeds at being one of the most u...     False"
            ]
          },
          "metadata": {
            "tags": []
          },
          "execution_count": 5
        }
      ]
    },
    {
      "cell_type": "code",
      "metadata": {
        "id": "LU69oSIAzUcC",
        "colab_type": "code",
        "colab": {}
      },
      "source": [
        "\n",
        "data_lm = TextLMDataBunch.from_csv(path, 'texts.csv')\n",
        "data_clas = TextClasDataBunch.from_csv(path, 'texts.csv', vocab=data_lm.train_ds.vocab, bs=8)"
      ],
      "execution_count": 0,
      "outputs": []
    },
    {
      "cell_type": "code",
      "metadata": {
        "id": "jujrI1eNzeE2",
        "colab_type": "code",
        "colab": {}
      },
      "source": [
        "\n",
        "data_lm.save('data_lm_export.pkl')\n",
        "data_clas.save('data_clas_export.pkl')"
      ],
      "execution_count": 0,
      "outputs": []
    },
    {
      "cell_type": "code",
      "metadata": {
        "id": "nyt_rN41zgjz",
        "colab_type": "code",
        "colab": {}
      },
      "source": [
        "\n",
        "bs=192\n",
        "data_lm = load_data(path, 'data_lm_export.pkl', bs=bs)\n",
        "data_clas = load_data(path, 'data_clas_export.pkl', bs=8)"
      ],
      "execution_count": 0,
      "outputs": []
    },
    {
      "cell_type": "code",
      "metadata": {
        "id": "Ah-d0verzjo-",
        "colab_type": "code",
        "colab": {
          "base_uri": "https://localhost:8080/",
          "height": 35
        },
        "outputId": "c467cc83-f3f3-405b-d711-a8fd2a360942"
      },
      "source": [
        "torch.cuda.current_device()"
      ],
      "execution_count": 11,
      "outputs": [
        {
          "output_type": "execute_result",
          "data": {
            "text/plain": [
              "0"
            ]
          },
          "metadata": {
            "tags": []
          },
          "execution_count": 11
        }
      ]
    },
    {
      "cell_type": "code",
      "metadata": {
        "id": "u0mjesCDzm2H",
        "colab_type": "code",
        "colab": {
          "base_uri": "https://localhost:8080/",
          "height": 35
        },
        "outputId": "eb494627-cc7a-40c4-a5df-e1f6bced5104"
      },
      "source": [
        "torch.cuda.get_device_name(0)"
      ],
      "execution_count": 12,
      "outputs": [
        {
          "output_type": "execute_result",
          "data": {
            "text/plain": [
              "'Tesla K80'"
            ]
          },
          "metadata": {
            "tags": []
          },
          "execution_count": 12
        }
      ]
    },
    {
      "cell_type": "code",
      "metadata": {
        "id": "MuNr7duUz1x3",
        "colab_type": "code",
        "colab": {}
      },
      "source": [
        ""
      ],
      "execution_count": 0,
      "outputs": []
    },
    {
      "cell_type": "code",
      "metadata": {
        "id": "ATJbuwSAz6S4",
        "colab_type": "code",
        "colab": {
          "base_uri": "https://localhost:8080/",
          "height": 79
        },
        "outputId": "896c7ad7-e9d5-46e7-f245-66c021e9cf42"
      },
      "source": [
        "\n",
        "learn = language_model_learner(data_lm, AWD_LSTM, drop_mult=0.5)\n",
        "learn.fit_one_cycle(1, 1e-2)"
      ],
      "execution_count": 13,
      "outputs": [
        {
          "output_type": "display_data",
          "data": {
            "text/html": [
              "<table border=\"1\" class=\"dataframe\">\n",
              "  <thead>\n",
              "    <tr style=\"text-align: left;\">\n",
              "      <th>epoch</th>\n",
              "      <th>train_loss</th>\n",
              "      <th>valid_loss</th>\n",
              "      <th>accuracy</th>\n",
              "      <th>time</th>\n",
              "    </tr>\n",
              "  </thead>\n",
              "  <tbody>\n",
              "    <tr>\n",
              "      <td>0</td>\n",
              "      <td>4.381495</td>\n",
              "      <td>3.946625</td>\n",
              "      <td>0.282366</td>\n",
              "      <td>00:18</td>\n",
              "    </tr>\n",
              "  </tbody>\n",
              "</table>"
            ],
            "text/plain": [
              "<IPython.core.display.HTML object>"
            ]
          },
          "metadata": {
            "tags": []
          }
        }
      ]
    },
    {
      "cell_type": "code",
      "metadata": {
        "id": "eZV_Z4_iz-2u",
        "colab_type": "code",
        "colab": {
          "base_uri": "https://localhost:8080/",
          "height": 141
        },
        "outputId": "26c14250-bb45-404a-88df-f05555524cde"
      },
      "source": [
        "learn.unfreeze()\n",
        "learn.fit_one_cycle(3, slice(1e-4,1e-2))"
      ],
      "execution_count": 14,
      "outputs": [
        {
          "output_type": "display_data",
          "data": {
            "text/html": [
              "<table border=\"1\" class=\"dataframe\">\n",
              "  <thead>\n",
              "    <tr style=\"text-align: left;\">\n",
              "      <th>epoch</th>\n",
              "      <th>train_loss</th>\n",
              "      <th>valid_loss</th>\n",
              "      <th>accuracy</th>\n",
              "      <th>time</th>\n",
              "    </tr>\n",
              "  </thead>\n",
              "  <tbody>\n",
              "    <tr>\n",
              "      <td>0</td>\n",
              "      <td>4.075387</td>\n",
              "      <td>3.828389</td>\n",
              "      <td>0.294851</td>\n",
              "      <td>00:23</td>\n",
              "    </tr>\n",
              "    <tr>\n",
              "      <td>1</td>\n",
              "      <td>3.867562</td>\n",
              "      <td>3.783039</td>\n",
              "      <td>0.296726</td>\n",
              "      <td>00:23</td>\n",
              "    </tr>\n",
              "    <tr>\n",
              "      <td>2</td>\n",
              "      <td>3.671761</td>\n",
              "      <td>3.775161</td>\n",
              "      <td>0.298735</td>\n",
              "      <td>00:23</td>\n",
              "    </tr>\n",
              "  </tbody>\n",
              "</table>"
            ],
            "text/plain": [
              "<IPython.core.display.HTML object>"
            ]
          },
          "metadata": {
            "tags": []
          }
        }
      ]
    },
    {
      "cell_type": "code",
      "metadata": {
        "id": "Ni-Yc6-k0DXS",
        "colab_type": "code",
        "colab": {
          "base_uri": "https://localhost:8080/",
          "height": 35
        },
        "outputId": "6051de38-10c0-49be-8616-cc1263f0c551"
      },
      "source": [
        "learn.predict(\"This is a review about\", n_words=10)"
      ],
      "execution_count": 15,
      "outputs": [
        {
          "output_type": "execute_result",
          "data": {
            "text/plain": [
              "'This is a review about called reds in Work . An 1933 study'"
            ]
          },
          "metadata": {
            "tags": []
          },
          "execution_count": 15
        }
      ]
    },
    {
      "cell_type": "code",
      "metadata": {
        "id": "zJME9-910V6H",
        "colab_type": "code",
        "colab": {
          "base_uri": "https://localhost:8080/",
          "height": 35
        },
        "outputId": "8431961e-2d64-41f2-ad8c-fa5b2aef4735"
      },
      "source": [
        "learn.predict(\"I really love \", n_words=10)"
      ],
      "execution_count": 16,
      "outputs": [
        {
          "output_type": "execute_result",
          "data": {
            "text/plain": [
              "\"I really love  Gene 's wife , but i found it hard\""
            ]
          },
          "metadata": {
            "tags": []
          },
          "execution_count": 16
        }
      ]
    },
    {
      "cell_type": "code",
      "metadata": {
        "id": "yN6clIBp0TUO",
        "colab_type": "code",
        "colab": {}
      },
      "source": [
        "learn.save('ft')\n",
        "learn.save_encoder('ft_enc')"
      ],
      "execution_count": 0,
      "outputs": []
    },
    {
      "cell_type": "code",
      "metadata": {
        "id": "qrkGkfag0RQ7",
        "colab_type": "code",
        "colab": {
          "base_uri": "https://localhost:8080/",
          "height": 1000
        },
        "outputId": "5fbce25d-3469-4a8b-a207-5233bd1c9426"
      },
      "source": [
        "\n",
        "learn = text_classifier_learner(data_clas, AWD_LSTM, drop_mult=0.5).to_fp16()\n",
        "learn.load_encoder('ft_enc')"
      ],
      "execution_count": 7,
      "outputs": [
        {
          "output_type": "execute_result",
          "data": {
            "text/plain": [
              "RNNLearner(data=TextClasDataBunch;\n",
              "\n",
              "Train: LabelList (799 items)\n",
              "x: TextList\n",
              "xxbos xxmaj evidently when you offer a actor enough money they will do anything . i am not sure how much xxmaj john xxmaj xxunk - xxmaj xxunk got , but most of the money he made should go to his fans as an apology for even being associated with such a xxup rotten movie . xxmaj the special effects were worse then effects from the 1950 's b movies and the acting of the rest of the cast was even worse . xxmaj as to how bad the acting was a child gave the second best performance in my opinion . xxmaj the xxmaj english was terribly xxunk and i think no one could really even speak xxmaj english they just xxunk how the words should sound instead of xxunk the script and trying to make their character both \" life - like \" and real .,xxbos xxmaj terry xxmaj gilliam 's stunning feature - length adaptation of xxmaj chris xxmaj marker 's short film xxup la xxup xxunk is full of mind - xxunk surprises , yet still touches your heart thanks to the superb cast . xxmaj gilliam 's flair for the xxunk works with the script by xxmaj david and xxmaj janet xxmaj peoples to play with your head as much as it does with poor xxmaj james xxmaj cole ( xxmaj willis at his most xxmaj steve mcqueen - like -- better than mcqueen , even ! ) , a time - traveling convict from the future who literally does n't know whether he 's coming or going as a team of scientists keeps sending him back to the wrong eras while trying to prevent a 1995 plague that 's deadly to humans but harmless to animals . xxmaj willis , the xxunk xxmaj oscar - nominated xxmaj brad xxmaj pitt , and xxmaj madeline xxmaj stowe as a well - meaning psychiatrist give some of the best performances of their careers . xxmaj even xxmaj paul xxmaj xxunk 's tango - style score is haunting . xxmaj this one 's a don't - miss !,xxbos i found the characters mediocre and the story uninteresting . i never had to read this book ( thankfully ) , or it would have been a painful experience . i got the xxunk to the preview for free but it still was n't worth my time , or my friend 's . i think this story is not worth telling . xxmaj it 's like saying that old people have a past before they got old ( no kidding ) . xxmaj the lives of the main characters were painful to watch , one generation no better than the next at avoiding stupid mistakes . xxmaj however , i think the actors did the best they could with a lame story . i 've always been a big fan of xxmaj ellen xxmaj xxunk . i 'm writing this review to counteract the positive reviews given , which unfortunately convinced me to give this movie a try .,xxbos xxmaj this movie was the most horrible movie watching experience i have ever had to endure , and what is worse is the fact that i had to watch it , and did n't have the opportunity to stop it because it was for school ! xxmaj admittedly , the storyline was decent ... but i found the acting terrible ! xxmaj the exception was xxmaj xxunk xxmaj jean - xxmaj xxunk , i thought her performance was wonderful . xxmaj she was the only highlight , without her , i doubt i would have been able to bear watching the film . xxmaj every time i hear somebody say \" xxunk \" i cringe ! i nearly attacked a xxunk the other day because they said \" it \" . xxmaj it made me remember one of the worst one and a half hours of my life ! \n",
              " \n",
              "  ( i xxunk if this has xxunk anybody , i am only expressing my opinion ),xxbos i grew up xxmaj baptist and i know the story this movie is trying to tell , although i no longer believe the story . i 'll give the movie kudos for being as good as the average xxmaj lifetime xxmaj movie of the xxmaj week . xxmaj mildly interesting , mediocre acting , a bit slow , the script is predictable , the music is sappy , and it is a bit melodramatic . xxmaj and all the people left behind have got to be the xxunk clean non - xxmaj christians , ever . xxmaj not a single curse word from any of them . xxmaj but i laughed out loud when the actor playing the man who runs the xxmaj united xxmaj nations xxunk \" nuclear \" as \" nu - cu - ler , \" just like xxmaj bush . xxmaj is there some xxmaj christian code of honor that xxunk that since xxmaj bush claims he , too , is called by xxmaj god , that all xxmaj christians must cover up his ignorance by xxunk that word the same way he does ? xxup xxunk ! i really had a difficult time taking the movie seriously at all after that . xxmaj after the \" nu - cu - ler \" incident , the movie began to feel like xxunk , manipulative propaganda . i was looking for something bold . xxmaj actually , i was looking for something that might make me think , but i did n't find it here . xxmaj if you 're looking for mindless entertainment , stop here - it 's good for killing a rainy afternoon . xxmaj but if you 're looking for intelligence , look elsewhere .\n",
              "y: CategoryList\n",
              "negative,positive,negative,negative,negative\n",
              "Path: /root/.fastai/data/imdb_sample;\n",
              "\n",
              "Valid: LabelList (201 items)\n",
              "x: TextList\n",
              "xxbos ' xxmaj major xxmaj payne ' is a film about a major who makes life a living xxmaj hell for his small group of boys in the marines . xxmaj this film does not really have a lot to offer , but it provides several hilarious moments that are well - worth a watch . xxmaj do n't expect it to be a memorable film , however . xxmaj just expect to laugh your way through the film and at the expense of other people . xxmaj the confrontation between xxmaj major xxmaj payne and the xxunk boy were hilarious , and that 's really all i remember about the film except for the boys wanting revenge on xxmaj major xxmaj payne . xxmaj again , it is not a great film , and it is probably best watched on a rainy day when you need some laughter .,xxbos xxmaj what 's in a name ? xxmaj if the name is xxmaj jerry xxmaj bruckheimer expect it to be filled with action . \n",
              " \n",
              "  xxmaj in producer xxmaj bruckheimer 's latest film , xxmaj gone in 60 xxmaj seconds , its all about the xxunk . xxmaj with character xxunk like xxmaj kip , xxmaj xxunk and xxmaj the xxmaj xxunk and cars xxunk with names like xxmaj diane , xxmaj sue and the elusive xxmaj eleanor , it 's only the non - stop action that keeps you from wanting to just play the name game . \n",
              " \n",
              "  xxmaj not a deep script by any means , but it is a great vehicle for action as xxmaj nicolas xxmaj cage as xxmaj xxunk xxmaj raines , along with xxmaj angelina xxmaj jolie and xxmaj robert xxmaj duvall , comes out of car - xxunk retirement to save his brother 's life by stealing a list of 50 exotic cars in one night . a remake of the 1974 cult hit , this film may not be destined for the same cult status but it is entertaining . \n",
              " \n",
              "  xxmaj surprisingly , it 's the action that keeps you watching not the acting . xxmaj although loaded with stars , none of them have standout performances , including a very weak performance by one of my favorite up and xxunk , xxmaj giovanni xxmaj ribisi . xxmaj even xxmaj jolie , coming off her recent xxmaj oscar win , is just a token love interest with hardly any screen time . \n",
              " \n",
              "  xxmaj can a series of beautiful cars and the car chases they become involved in make a great film ? i think so . xxmaj the film is a pleasure to look at and although one particular scene takes you into the realm of xxunk , the action is non - stop and the suspense is compelling . xxmaj just be xxunk of other drivers fighting for a pole position as you leave the theatre . \n",
              " \n",
              "  3 1 / 2 out of 5,xxbos xxmaj how unfortunate , to have so many of my \" a \" list , and good \" b \" list actors agree to do this movie , but they did , and that is what sucked me into watching it . i had never heard of this movie , but there was xxmaj cuba xxmaj gooding xxmaj jr. right on the xxup dvd cover , and xxmaj james xxmaj woods in the background how bad can it be ? xxmaj in a word xxmaj very ! xxmaj this movie starts xxunk . has some twists and turns , then just lays an egg . xxmaj the ending was so weak , it was as if the writer got called away and his 4 year old son sat down at the type writer and hacked out the ending . xxmaj how ironic a for a movie titled \" xxmaj the end game \" to have such a poor one . xxmaj these are the types of movies that can move \" a \" list actors to the \" b \" list in hurry . i hope xxmaj cuba xxmaj gooding xxup jr , and xxmaj james xxmaj woods do n't make a habit of this .,xxbos xxmaj this very funny xxmaj british comedy shows what might happen if a section of xxmaj london , in this case xxmaj xxunk , were to declare itself independent from the rest of the xxup uk and its laws , xxunk & post - war xxunk . xxmaj merry mayhem is what would happen . \n",
              " \n",
              "  xxmaj the explosion of a wartime bomb leads to the discovery of ancient documents which show that xxmaj xxunk was xxunk to the xxmaj xxunk of xxmaj xxunk centuries ago , a small historical xxunk long since forgotten . xxmaj to the new xxmaj xxunk , however , this is an unexpected opportunity to live as they please , free from any xxunk from xxmaj xxunk . \n",
              " \n",
              "  xxmaj stanley xxmaj xxunk is excellent as the minor city politician who suddenly finds himself leading one of the world 's xxunk nations . xxmaj xxunk xxmaj margaret xxmaj xxunk is a delight as the history professor who sides with xxmaj xxunk . xxmaj others in the stand - out cast include xxmaj xxunk xxmaj xxunk , xxmaj paul xxmaj xxunk , xxmaj xxunk xxmaj wayne , xxmaj xxunk xxmaj xxunk & xxmaj sir xxmaj michael xxmaj xxunk . \n",
              " \n",
              "  xxmaj welcome to xxmaj xxunk !,xxbos i love xxmaj seth xxmaj green . xxmaj his appearances on that 70s ' xxmaj show is always worth watching but last night , i felt the show needed to xxunk . xxmaj four single young guys inherit a xxmaj new xxmaj york xxmaj city apartment that most of us would die for . xxmaj the grandmother must have been an heiress to have such space in the first place . xxmaj so i felt the need for realism should have been brought out . xxmaj anyway the plot about four best friends getting this apartment was not believable . i would have been thrilled if they had to move in with one of their parents which would have provided great humor and dysfunctional about the show 's set up . xxmaj there did not seem to be much humor in it . i am only watching it because it falls before xxmaj my xxmaj name is xxmaj earl on a winning xxmaj xxunk night . i think they should go back , xxunk this series , and start over . xxmaj we need more family involved series . xxmaj how about xxmaj seth and his friends move in with his wacky parents in the xxunk after a fire burns their place down . they could have xxmaj xxunk xxmaj coleman play the father and xxmaj christine xxmaj xxunk , play the mother and dysfunctional siblings . xxmaj the list of possibilities with somebody like xxmaj seth xxmaj green are endless and the network is blowing it .\n",
              "y: CategoryList\n",
              "negative,positive,negative,positive,negative\n",
              "Path: /root/.fastai/data/imdb_sample;\n",
              "\n",
              "Test: None, model=SequentialRNN(\n",
              "  (0): MultiBatchEncoder(\n",
              "    (module): AWD_LSTM(\n",
              "      (encoder): Embedding(8840, 400, padding_idx=1)\n",
              "      (encoder_dp): EmbeddingDropout(\n",
              "        (emb): Embedding(8840, 400, padding_idx=1)\n",
              "      )\n",
              "      (rnns): ModuleList(\n",
              "        (0): WeightDropout(\n",
              "          (module): LSTM(400, 1152, batch_first=True)\n",
              "        )\n",
              "        (1): WeightDropout(\n",
              "          (module): LSTM(1152, 1152, batch_first=True)\n",
              "        )\n",
              "        (2): WeightDropout(\n",
              "          (module): LSTM(1152, 400, batch_first=True)\n",
              "        )\n",
              "      )\n",
              "      (input_dp): RNNDropout()\n",
              "      (hidden_dps): ModuleList(\n",
              "        (0): RNNDropout()\n",
              "        (1): RNNDropout()\n",
              "        (2): RNNDropout()\n",
              "      )\n",
              "    )\n",
              "  )\n",
              "  (1): PoolingLinearClassifier(\n",
              "    (layers): Sequential(\n",
              "      (0): BatchNorm1d(1200, eps=1e-05, momentum=0.1, affine=True, track_running_stats=True)\n",
              "      (1): Dropout(p=0.2)\n",
              "      (2): Linear(in_features=1200, out_features=50, bias=True)\n",
              "      (3): ReLU(inplace)\n",
              "      (4): BatchNorm1d(50, eps=1e-05, momentum=0.1, affine=True, track_running_stats=True)\n",
              "      (5): Dropout(p=0.1)\n",
              "      (6): Linear(in_features=50, out_features=2, bias=True)\n",
              "    )\n",
              "  )\n",
              "), opt_func=functools.partial(<class 'torch.optim.adam.Adam'>, betas=(0.9, 0.99)), loss_func=FlattenedLoss of CrossEntropyLoss(), metrics=[<function accuracy at 0x7fc6ff75dc80>], true_wd=True, bn_wd=True, wd=0.01, train_bn=True, path=PosixPath('/root/.fastai/data/imdb_sample'), model_dir='models', callback_fns=[functools.partial(<class 'fastai.basic_train.Recorder'>, add_time=True, silent=False)], callbacks=[RNNTrainer\n",
              "learn: RNNLearner(data=TextClasDataBunch;\n",
              "\n",
              "Train: LabelList (799 items)\n",
              "x: TextList\n",
              "xxbos xxmaj evidently when you offer a actor enough money they will do anything . i am not sure how much xxmaj john xxmaj xxunk - xxmaj xxunk got , but most of the money he made should go to his fans as an apology for even being associated with such a xxup rotten movie . xxmaj the special effects were worse then effects from the 1950 's b movies and the acting of the rest of the cast was even worse . xxmaj as to how bad the acting was a child gave the second best performance in my opinion . xxmaj the xxmaj english was terribly xxunk and i think no one could really even speak xxmaj english they just xxunk how the words should sound instead of xxunk the script and trying to make their character both \" life - like \" and real .,xxbos xxmaj terry xxmaj gilliam 's stunning feature - length adaptation of xxmaj chris xxmaj marker 's short film xxup la xxup xxunk is full of mind - xxunk surprises , yet still touches your heart thanks to the superb cast . xxmaj gilliam 's flair for the xxunk works with the script by xxmaj david and xxmaj janet xxmaj peoples to play with your head as much as it does with poor xxmaj james xxmaj cole ( xxmaj willis at his most xxmaj steve mcqueen - like -- better than mcqueen , even ! ) , a time - traveling convict from the future who literally does n't know whether he 's coming or going as a team of scientists keeps sending him back to the wrong eras while trying to prevent a 1995 plague that 's deadly to humans but harmless to animals . xxmaj willis , the xxunk xxmaj oscar - nominated xxmaj brad xxmaj pitt , and xxmaj madeline xxmaj stowe as a well - meaning psychiatrist give some of the best performances of their careers . xxmaj even xxmaj paul xxmaj xxunk 's tango - style score is haunting . xxmaj this one 's a don't - miss !,xxbos i found the characters mediocre and the story uninteresting . i never had to read this book ( thankfully ) , or it would have been a painful experience . i got the xxunk to the preview for free but it still was n't worth my time , or my friend 's . i think this story is not worth telling . xxmaj it 's like saying that old people have a past before they got old ( no kidding ) . xxmaj the lives of the main characters were painful to watch , one generation no better than the next at avoiding stupid mistakes . xxmaj however , i think the actors did the best they could with a lame story . i 've always been a big fan of xxmaj ellen xxmaj xxunk . i 'm writing this review to counteract the positive reviews given , which unfortunately convinced me to give this movie a try .,xxbos xxmaj this movie was the most horrible movie watching experience i have ever had to endure , and what is worse is the fact that i had to watch it , and did n't have the opportunity to stop it because it was for school ! xxmaj admittedly , the storyline was decent ... but i found the acting terrible ! xxmaj the exception was xxmaj xxunk xxmaj jean - xxmaj xxunk , i thought her performance was wonderful . xxmaj she was the only highlight , without her , i doubt i would have been able to bear watching the film . xxmaj every time i hear somebody say \" xxunk \" i cringe ! i nearly attacked a xxunk the other day because they said \" it \" . xxmaj it made me remember one of the worst one and a half hours of my life ! \n",
              " \n",
              "  ( i xxunk if this has xxunk anybody , i am only expressing my opinion ),xxbos i grew up xxmaj baptist and i know the story this movie is trying to tell , although i no longer believe the story . i 'll give the movie kudos for being as good as the average xxmaj lifetime xxmaj movie of the xxmaj week . xxmaj mildly interesting , mediocre acting , a bit slow , the script is predictable , the music is sappy , and it is a bit melodramatic . xxmaj and all the people left behind have got to be the xxunk clean non - xxmaj christians , ever . xxmaj not a single curse word from any of them . xxmaj but i laughed out loud when the actor playing the man who runs the xxmaj united xxmaj nations xxunk \" nuclear \" as \" nu - cu - ler , \" just like xxmaj bush . xxmaj is there some xxmaj christian code of honor that xxunk that since xxmaj bush claims he , too , is called by xxmaj god , that all xxmaj christians must cover up his ignorance by xxunk that word the same way he does ? xxup xxunk ! i really had a difficult time taking the movie seriously at all after that . xxmaj after the \" nu - cu - ler \" incident , the movie began to feel like xxunk , manipulative propaganda . i was looking for something bold . xxmaj actually , i was looking for something that might make me think , but i did n't find it here . xxmaj if you 're looking for mindless entertainment , stop here - it 's good for killing a rainy afternoon . xxmaj but if you 're looking for intelligence , look elsewhere .\n",
              "y: CategoryList\n",
              "negative,positive,negative,negative,negative\n",
              "Path: /root/.fastai/data/imdb_sample;\n",
              "\n",
              "Valid: LabelList (201 items)\n",
              "x: TextList\n",
              "xxbos ' xxmaj major xxmaj payne ' is a film about a major who makes life a living xxmaj hell for his small group of boys in the marines . xxmaj this film does not really have a lot to offer , but it provides several hilarious moments that are well - worth a watch . xxmaj do n't expect it to be a memorable film , however . xxmaj just expect to laugh your way through the film and at the expense of other people . xxmaj the confrontation between xxmaj major xxmaj payne and the xxunk boy were hilarious , and that 's really all i remember about the film except for the boys wanting revenge on xxmaj major xxmaj payne . xxmaj again , it is not a great film , and it is probably best watched on a rainy day when you need some laughter .,xxbos xxmaj what 's in a name ? xxmaj if the name is xxmaj jerry xxmaj bruckheimer expect it to be filled with action . \n",
              " \n",
              "  xxmaj in producer xxmaj bruckheimer 's latest film , xxmaj gone in 60 xxmaj seconds , its all about the xxunk . xxmaj with character xxunk like xxmaj kip , xxmaj xxunk and xxmaj the xxmaj xxunk and cars xxunk with names like xxmaj diane , xxmaj sue and the elusive xxmaj eleanor , it 's only the non - stop action that keeps you from wanting to just play the name game . \n",
              " \n",
              "  xxmaj not a deep script by any means , but it is a great vehicle for action as xxmaj nicolas xxmaj cage as xxmaj xxunk xxmaj raines , along with xxmaj angelina xxmaj jolie and xxmaj robert xxmaj duvall , comes out of car - xxunk retirement to save his brother 's life by stealing a list of 50 exotic cars in one night . a remake of the 1974 cult hit , this film may not be destined for the same cult status but it is entertaining . \n",
              " \n",
              "  xxmaj surprisingly , it 's the action that keeps you watching not the acting . xxmaj although loaded with stars , none of them have standout performances , including a very weak performance by one of my favorite up and xxunk , xxmaj giovanni xxmaj ribisi . xxmaj even xxmaj jolie , coming off her recent xxmaj oscar win , is just a token love interest with hardly any screen time . \n",
              " \n",
              "  xxmaj can a series of beautiful cars and the car chases they become involved in make a great film ? i think so . xxmaj the film is a pleasure to look at and although one particular scene takes you into the realm of xxunk , the action is non - stop and the suspense is compelling . xxmaj just be xxunk of other drivers fighting for a pole position as you leave the theatre . \n",
              " \n",
              "  3 1 / 2 out of 5,xxbos xxmaj how unfortunate , to have so many of my \" a \" list , and good \" b \" list actors agree to do this movie , but they did , and that is what sucked me into watching it . i had never heard of this movie , but there was xxmaj cuba xxmaj gooding xxmaj jr. right on the xxup dvd cover , and xxmaj james xxmaj woods in the background how bad can it be ? xxmaj in a word xxmaj very ! xxmaj this movie starts xxunk . has some twists and turns , then just lays an egg . xxmaj the ending was so weak , it was as if the writer got called away and his 4 year old son sat down at the type writer and hacked out the ending . xxmaj how ironic a for a movie titled \" xxmaj the end game \" to have such a poor one . xxmaj these are the types of movies that can move \" a \" list actors to the \" b \" list in hurry . i hope xxmaj cuba xxmaj gooding xxup jr , and xxmaj james xxmaj woods do n't make a habit of this .,xxbos xxmaj this very funny xxmaj british comedy shows what might happen if a section of xxmaj london , in this case xxmaj xxunk , were to declare itself independent from the rest of the xxup uk and its laws , xxunk & post - war xxunk . xxmaj merry mayhem is what would happen . \n",
              " \n",
              "  xxmaj the explosion of a wartime bomb leads to the discovery of ancient documents which show that xxmaj xxunk was xxunk to the xxmaj xxunk of xxmaj xxunk centuries ago , a small historical xxunk long since forgotten . xxmaj to the new xxmaj xxunk , however , this is an unexpected opportunity to live as they please , free from any xxunk from xxmaj xxunk . \n",
              " \n",
              "  xxmaj stanley xxmaj xxunk is excellent as the minor city politician who suddenly finds himself leading one of the world 's xxunk nations . xxmaj xxunk xxmaj margaret xxmaj xxunk is a delight as the history professor who sides with xxmaj xxunk . xxmaj others in the stand - out cast include xxmaj xxunk xxmaj xxunk , xxmaj paul xxmaj xxunk , xxmaj xxunk xxmaj wayne , xxmaj xxunk xxmaj xxunk & xxmaj sir xxmaj michael xxmaj xxunk . \n",
              " \n",
              "  xxmaj welcome to xxmaj xxunk !,xxbos i love xxmaj seth xxmaj green . xxmaj his appearances on that 70s ' xxmaj show is always worth watching but last night , i felt the show needed to xxunk . xxmaj four single young guys inherit a xxmaj new xxmaj york xxmaj city apartment that most of us would die for . xxmaj the grandmother must have been an heiress to have such space in the first place . xxmaj so i felt the need for realism should have been brought out . xxmaj anyway the plot about four best friends getting this apartment was not believable . i would have been thrilled if they had to move in with one of their parents which would have provided great humor and dysfunctional about the show 's set up . xxmaj there did not seem to be much humor in it . i am only watching it because it falls before xxmaj my xxmaj name is xxmaj earl on a winning xxmaj xxunk night . i think they should go back , xxunk this series , and start over . xxmaj we need more family involved series . xxmaj how about xxmaj seth and his friends move in with his wacky parents in the xxunk after a fire burns their place down . they could have xxmaj xxunk xxmaj coleman play the father and xxmaj christine xxmaj xxunk , play the mother and dysfunctional siblings . xxmaj the list of possibilities with somebody like xxmaj seth xxmaj green are endless and the network is blowing it .\n",
              "y: CategoryList\n",
              "negative,positive,negative,positive,negative\n",
              "Path: /root/.fastai/data/imdb_sample;\n",
              "\n",
              "Test: None, model=SequentialRNN(\n",
              "  (0): MultiBatchEncoder(\n",
              "    (module): AWD_LSTM(\n",
              "      (encoder): Embedding(8840, 400, padding_idx=1)\n",
              "      (encoder_dp): EmbeddingDropout(\n",
              "        (emb): Embedding(8840, 400, padding_idx=1)\n",
              "      )\n",
              "      (rnns): ModuleList(\n",
              "        (0): WeightDropout(\n",
              "          (module): LSTM(400, 1152, batch_first=True)\n",
              "        )\n",
              "        (1): WeightDropout(\n",
              "          (module): LSTM(1152, 1152, batch_first=True)\n",
              "        )\n",
              "        (2): WeightDropout(\n",
              "          (module): LSTM(1152, 400, batch_first=True)\n",
              "        )\n",
              "      )\n",
              "      (input_dp): RNNDropout()\n",
              "      (hidden_dps): ModuleList(\n",
              "        (0): RNNDropout()\n",
              "        (1): RNNDropout()\n",
              "        (2): RNNDropout()\n",
              "      )\n",
              "    )\n",
              "  )\n",
              "  (1): PoolingLinearClassifier(\n",
              "    (layers): Sequential(\n",
              "      (0): BatchNorm1d(1200, eps=1e-05, momentum=0.1, affine=True, track_running_stats=True)\n",
              "      (1): Dropout(p=0.2)\n",
              "      (2): Linear(in_features=1200, out_features=50, bias=True)\n",
              "      (3): ReLU(inplace)\n",
              "      (4): BatchNorm1d(50, eps=1e-05, momentum=0.1, affine=True, track_running_stats=True)\n",
              "      (5): Dropout(p=0.1)\n",
              "      (6): Linear(in_features=50, out_features=2, bias=True)\n",
              "    )\n",
              "  )\n",
              "), opt_func=functools.partial(<class 'torch.optim.adam.Adam'>, betas=(0.9, 0.99)), loss_func=FlattenedLoss of CrossEntropyLoss(), metrics=[<function accuracy at 0x7fc6ff75dc80>], true_wd=True, bn_wd=True, wd=0.01, train_bn=True, path=PosixPath('/root/.fastai/data/imdb_sample'), model_dir='models', callback_fns=[functools.partial(<class 'fastai.basic_train.Recorder'>, add_time=True, silent=False)], callbacks=[...], layer_groups=[Sequential(\n",
              "  (0): Embedding(8840, 400, padding_idx=1)\n",
              "  (1): EmbeddingDropout(\n",
              "    (emb): Embedding(8840, 400, padding_idx=1)\n",
              "  )\n",
              "), Sequential(\n",
              "  (0): WeightDropout(\n",
              "    (module): LSTM(400, 1152, batch_first=True)\n",
              "  )\n",
              "  (1): RNNDropout()\n",
              "), Sequential(\n",
              "  (0): WeightDropout(\n",
              "    (module): LSTM(1152, 1152, batch_first=True)\n",
              "  )\n",
              "  (1): RNNDropout()\n",
              "), Sequential(\n",
              "  (0): WeightDropout(\n",
              "    (module): LSTM(1152, 400, batch_first=True)\n",
              "  )\n",
              "  (1): RNNDropout()\n",
              "), Sequential(\n",
              "  (0): PoolingLinearClassifier(\n",
              "    (layers): Sequential(\n",
              "      (0): BatchNorm1d(1200, eps=1e-05, momentum=0.1, affine=True, track_running_stats=True)\n",
              "      (1): Dropout(p=0.2)\n",
              "      (2): Linear(in_features=1200, out_features=50, bias=True)\n",
              "      (3): ReLU(inplace)\n",
              "      (4): BatchNorm1d(50, eps=1e-05, momentum=0.1, affine=True, track_running_stats=True)\n",
              "      (5): Dropout(p=0.1)\n",
              "      (6): Linear(in_features=50, out_features=2, bias=True)\n",
              "    )\n",
              "  )\n",
              ")], add_time=True, silent=False, cb_fns_registered=False)\n",
              "alpha: 2.0\n",
              "beta: 1.0, MixedPrecision\n",
              "learn: RNNLearner(data=TextClasDataBunch;\n",
              "\n",
              "Train: LabelList (799 items)\n",
              "x: TextList\n",
              "xxbos xxmaj evidently when you offer a actor enough money they will do anything . i am not sure how much xxmaj john xxmaj xxunk - xxmaj xxunk got , but most of the money he made should go to his fans as an apology for even being associated with such a xxup rotten movie . xxmaj the special effects were worse then effects from the 1950 's b movies and the acting of the rest of the cast was even worse . xxmaj as to how bad the acting was a child gave the second best performance in my opinion . xxmaj the xxmaj english was terribly xxunk and i think no one could really even speak xxmaj english they just xxunk how the words should sound instead of xxunk the script and trying to make their character both \" life - like \" and real .,xxbos xxmaj terry xxmaj gilliam 's stunning feature - length adaptation of xxmaj chris xxmaj marker 's short film xxup la xxup xxunk is full of mind - xxunk surprises , yet still touches your heart thanks to the superb cast . xxmaj gilliam 's flair for the xxunk works with the script by xxmaj david and xxmaj janet xxmaj peoples to play with your head as much as it does with poor xxmaj james xxmaj cole ( xxmaj willis at his most xxmaj steve mcqueen - like -- better than mcqueen , even ! ) , a time - traveling convict from the future who literally does n't know whether he 's coming or going as a team of scientists keeps sending him back to the wrong eras while trying to prevent a 1995 plague that 's deadly to humans but harmless to animals . xxmaj willis , the xxunk xxmaj oscar - nominated xxmaj brad xxmaj pitt , and xxmaj madeline xxmaj stowe as a well - meaning psychiatrist give some of the best performances of their careers . xxmaj even xxmaj paul xxmaj xxunk 's tango - style score is haunting . xxmaj this one 's a don't - miss !,xxbos i found the characters mediocre and the story uninteresting . i never had to read this book ( thankfully ) , or it would have been a painful experience . i got the xxunk to the preview for free but it still was n't worth my time , or my friend 's . i think this story is not worth telling . xxmaj it 's like saying that old people have a past before they got old ( no kidding ) . xxmaj the lives of the main characters were painful to watch , one generation no better than the next at avoiding stupid mistakes . xxmaj however , i think the actors did the best they could with a lame story . i 've always been a big fan of xxmaj ellen xxmaj xxunk . i 'm writing this review to counteract the positive reviews given , which unfortunately convinced me to give this movie a try .,xxbos xxmaj this movie was the most horrible movie watching experience i have ever had to endure , and what is worse is the fact that i had to watch it , and did n't have the opportunity to stop it because it was for school ! xxmaj admittedly , the storyline was decent ... but i found the acting terrible ! xxmaj the exception was xxmaj xxunk xxmaj jean - xxmaj xxunk , i thought her performance was wonderful . xxmaj she was the only highlight , without her , i doubt i would have been able to bear watching the film . xxmaj every time i hear somebody say \" xxunk \" i cringe ! i nearly attacked a xxunk the other day because they said \" it \" . xxmaj it made me remember one of the worst one and a half hours of my life ! \n",
              " \n",
              "  ( i xxunk if this has xxunk anybody , i am only expressing my opinion ),xxbos i grew up xxmaj baptist and i know the story this movie is trying to tell , although i no longer believe the story . i 'll give the movie kudos for being as good as the average xxmaj lifetime xxmaj movie of the xxmaj week . xxmaj mildly interesting , mediocre acting , a bit slow , the script is predictable , the music is sappy , and it is a bit melodramatic . xxmaj and all the people left behind have got to be the xxunk clean non - xxmaj christians , ever . xxmaj not a single curse word from any of them . xxmaj but i laughed out loud when the actor playing the man who runs the xxmaj united xxmaj nations xxunk \" nuclear \" as \" nu - cu - ler , \" just like xxmaj bush . xxmaj is there some xxmaj christian code of honor that xxunk that since xxmaj bush claims he , too , is called by xxmaj god , that all xxmaj christians must cover up his ignorance by xxunk that word the same way he does ? xxup xxunk ! i really had a difficult time taking the movie seriously at all after that . xxmaj after the \" nu - cu - ler \" incident , the movie began to feel like xxunk , manipulative propaganda . i was looking for something bold . xxmaj actually , i was looking for something that might make me think , but i did n't find it here . xxmaj if you 're looking for mindless entertainment , stop here - it 's good for killing a rainy afternoon . xxmaj but if you 're looking for intelligence , look elsewhere .\n",
              "y: CategoryList\n",
              "negative,positive,negative,negative,negative\n",
              "Path: /root/.fastai/data/imdb_sample;\n",
              "\n",
              "Valid: LabelList (201 items)\n",
              "x: TextList\n",
              "xxbos ' xxmaj major xxmaj payne ' is a film about a major who makes life a living xxmaj hell for his small group of boys in the marines . xxmaj this film does not really have a lot to offer , but it provides several hilarious moments that are well - worth a watch . xxmaj do n't expect it to be a memorable film , however . xxmaj just expect to laugh your way through the film and at the expense of other people . xxmaj the confrontation between xxmaj major xxmaj payne and the xxunk boy were hilarious , and that 's really all i remember about the film except for the boys wanting revenge on xxmaj major xxmaj payne . xxmaj again , it is not a great film , and it is probably best watched on a rainy day when you need some laughter .,xxbos xxmaj what 's in a name ? xxmaj if the name is xxmaj jerry xxmaj bruckheimer expect it to be filled with action . \n",
              " \n",
              "  xxmaj in producer xxmaj bruckheimer 's latest film , xxmaj gone in 60 xxmaj seconds , its all about the xxunk . xxmaj with character xxunk like xxmaj kip , xxmaj xxunk and xxmaj the xxmaj xxunk and cars xxunk with names like xxmaj diane , xxmaj sue and the elusive xxmaj eleanor , it 's only the non - stop action that keeps you from wanting to just play the name game . \n",
              " \n",
              "  xxmaj not a deep script by any means , but it is a great vehicle for action as xxmaj nicolas xxmaj cage as xxmaj xxunk xxmaj raines , along with xxmaj angelina xxmaj jolie and xxmaj robert xxmaj duvall , comes out of car - xxunk retirement to save his brother 's life by stealing a list of 50 exotic cars in one night . a remake of the 1974 cult hit , this film may not be destined for the same cult status but it is entertaining . \n",
              " \n",
              "  xxmaj surprisingly , it 's the action that keeps you watching not the acting . xxmaj although loaded with stars , none of them have standout performances , including a very weak performance by one of my favorite up and xxunk , xxmaj giovanni xxmaj ribisi . xxmaj even xxmaj jolie , coming off her recent xxmaj oscar win , is just a token love interest with hardly any screen time . \n",
              " \n",
              "  xxmaj can a series of beautiful cars and the car chases they become involved in make a great film ? i think so . xxmaj the film is a pleasure to look at and although one particular scene takes you into the realm of xxunk , the action is non - stop and the suspense is compelling . xxmaj just be xxunk of other drivers fighting for a pole position as you leave the theatre . \n",
              " \n",
              "  3 1 / 2 out of 5,xxbos xxmaj how unfortunate , to have so many of my \" a \" list , and good \" b \" list actors agree to do this movie , but they did , and that is what sucked me into watching it . i had never heard of this movie , but there was xxmaj cuba xxmaj gooding xxmaj jr. right on the xxup dvd cover , and xxmaj james xxmaj woods in the background how bad can it be ? xxmaj in a word xxmaj very ! xxmaj this movie starts xxunk . has some twists and turns , then just lays an egg . xxmaj the ending was so weak , it was as if the writer got called away and his 4 year old son sat down at the type writer and hacked out the ending . xxmaj how ironic a for a movie titled \" xxmaj the end game \" to have such a poor one . xxmaj these are the types of movies that can move \" a \" list actors to the \" b \" list in hurry . i hope xxmaj cuba xxmaj gooding xxup jr , and xxmaj james xxmaj woods do n't make a habit of this .,xxbos xxmaj this very funny xxmaj british comedy shows what might happen if a section of xxmaj london , in this case xxmaj xxunk , were to declare itself independent from the rest of the xxup uk and its laws , xxunk & post - war xxunk . xxmaj merry mayhem is what would happen . \n",
              " \n",
              "  xxmaj the explosion of a wartime bomb leads to the discovery of ancient documents which show that xxmaj xxunk was xxunk to the xxmaj xxunk of xxmaj xxunk centuries ago , a small historical xxunk long since forgotten . xxmaj to the new xxmaj xxunk , however , this is an unexpected opportunity to live as they please , free from any xxunk from xxmaj xxunk . \n",
              " \n",
              "  xxmaj stanley xxmaj xxunk is excellent as the minor city politician who suddenly finds himself leading one of the world 's xxunk nations . xxmaj xxunk xxmaj margaret xxmaj xxunk is a delight as the history professor who sides with xxmaj xxunk . xxmaj others in the stand - out cast include xxmaj xxunk xxmaj xxunk , xxmaj paul xxmaj xxunk , xxmaj xxunk xxmaj wayne , xxmaj xxunk xxmaj xxunk & xxmaj sir xxmaj michael xxmaj xxunk . \n",
              " \n",
              "  xxmaj welcome to xxmaj xxunk !,xxbos i love xxmaj seth xxmaj green . xxmaj his appearances on that 70s ' xxmaj show is always worth watching but last night , i felt the show needed to xxunk . xxmaj four single young guys inherit a xxmaj new xxmaj york xxmaj city apartment that most of us would die for . xxmaj the grandmother must have been an heiress to have such space in the first place . xxmaj so i felt the need for realism should have been brought out . xxmaj anyway the plot about four best friends getting this apartment was not believable . i would have been thrilled if they had to move in with one of their parents which would have provided great humor and dysfunctional about the show 's set up . xxmaj there did not seem to be much humor in it . i am only watching it because it falls before xxmaj my xxmaj name is xxmaj earl on a winning xxmaj xxunk night . i think they should go back , xxunk this series , and start over . xxmaj we need more family involved series . xxmaj how about xxmaj seth and his friends move in with his wacky parents in the xxunk after a fire burns their place down . they could have xxmaj xxunk xxmaj coleman play the father and xxmaj christine xxmaj xxunk , play the mother and dysfunctional siblings . xxmaj the list of possibilities with somebody like xxmaj seth xxmaj green are endless and the network is blowing it .\n",
              "y: CategoryList\n",
              "negative,positive,negative,positive,negative\n",
              "Path: /root/.fastai/data/imdb_sample;\n",
              "\n",
              "Test: None, model=SequentialRNN(\n",
              "  (0): MultiBatchEncoder(\n",
              "    (module): AWD_LSTM(\n",
              "      (encoder): Embedding(8840, 400, padding_idx=1)\n",
              "      (encoder_dp): EmbeddingDropout(\n",
              "        (emb): Embedding(8840, 400, padding_idx=1)\n",
              "      )\n",
              "      (rnns): ModuleList(\n",
              "        (0): WeightDropout(\n",
              "          (module): LSTM(400, 1152, batch_first=True)\n",
              "        )\n",
              "        (1): WeightDropout(\n",
              "          (module): LSTM(1152, 1152, batch_first=True)\n",
              "        )\n",
              "        (2): WeightDropout(\n",
              "          (module): LSTM(1152, 400, batch_first=True)\n",
              "        )\n",
              "      )\n",
              "      (input_dp): RNNDropout()\n",
              "      (hidden_dps): ModuleList(\n",
              "        (0): RNNDropout()\n",
              "        (1): RNNDropout()\n",
              "        (2): RNNDropout()\n",
              "      )\n",
              "    )\n",
              "  )\n",
              "  (1): PoolingLinearClassifier(\n",
              "    (layers): Sequential(\n",
              "      (0): BatchNorm1d(1200, eps=1e-05, momentum=0.1, affine=True, track_running_stats=True)\n",
              "      (1): Dropout(p=0.2)\n",
              "      (2): Linear(in_features=1200, out_features=50, bias=True)\n",
              "      (3): ReLU(inplace)\n",
              "      (4): BatchNorm1d(50, eps=1e-05, momentum=0.1, affine=True, track_running_stats=True)\n",
              "      (5): Dropout(p=0.1)\n",
              "      (6): Linear(in_features=50, out_features=2, bias=True)\n",
              "    )\n",
              "  )\n",
              "), opt_func=functools.partial(<class 'torch.optim.adam.Adam'>, betas=(0.9, 0.99)), loss_func=FlattenedLoss of CrossEntropyLoss(), metrics=[<function accuracy at 0x7fc6ff75dc80>], true_wd=True, bn_wd=True, wd=0.01, train_bn=True, path=PosixPath('/root/.fastai/data/imdb_sample'), model_dir='models', callback_fns=[functools.partial(<class 'fastai.basic_train.Recorder'>, add_time=True, silent=False)], callbacks=[...], layer_groups=[Sequential(\n",
              "  (0): Embedding(8840, 400, padding_idx=1)\n",
              "  (1): EmbeddingDropout(\n",
              "    (emb): Embedding(8840, 400, padding_idx=1)\n",
              "  )\n",
              "), Sequential(\n",
              "  (0): WeightDropout(\n",
              "    (module): LSTM(400, 1152, batch_first=True)\n",
              "  )\n",
              "  (1): RNNDropout()\n",
              "), Sequential(\n",
              "  (0): WeightDropout(\n",
              "    (module): LSTM(1152, 1152, batch_first=True)\n",
              "  )\n",
              "  (1): RNNDropout()\n",
              "), Sequential(\n",
              "  (0): WeightDropout(\n",
              "    (module): LSTM(1152, 400, batch_first=True)\n",
              "  )\n",
              "  (1): RNNDropout()\n",
              "), Sequential(\n",
              "  (0): PoolingLinearClassifier(\n",
              "    (layers): Sequential(\n",
              "      (0): BatchNorm1d(1200, eps=1e-05, momentum=0.1, affine=True, track_running_stats=True)\n",
              "      (1): Dropout(p=0.2)\n",
              "      (2): Linear(in_features=1200, out_features=50, bias=True)\n",
              "      (3): ReLU(inplace)\n",
              "      (4): BatchNorm1d(50, eps=1e-05, momentum=0.1, affine=True, track_running_stats=True)\n",
              "      (5): Dropout(p=0.1)\n",
              "      (6): Linear(in_features=50, out_features=2, bias=True)\n",
              "    )\n",
              "  )\n",
              ")], add_time=True, silent=False, cb_fns_registered=False)\n",
              "loss_scale: 65536\n",
              "max_noskip: 1000\n",
              "dynamic: True\n",
              "clip: None\n",
              "flat_master: False\n",
              "max_scale: 16777216], layer_groups=[Sequential(\n",
              "  (0): Embedding(8840, 400, padding_idx=1)\n",
              "  (1): EmbeddingDropout(\n",
              "    (emb): Embedding(8840, 400, padding_idx=1)\n",
              "  )\n",
              "), Sequential(\n",
              "  (0): WeightDropout(\n",
              "    (module): LSTM(400, 1152, batch_first=True)\n",
              "  )\n",
              "  (1): RNNDropout()\n",
              "), Sequential(\n",
              "  (0): WeightDropout(\n",
              "    (module): LSTM(1152, 1152, batch_first=True)\n",
              "  )\n",
              "  (1): RNNDropout()\n",
              "), Sequential(\n",
              "  (0): WeightDropout(\n",
              "    (module): LSTM(1152, 400, batch_first=True)\n",
              "  )\n",
              "  (1): RNNDropout()\n",
              "), Sequential(\n",
              "  (0): PoolingLinearClassifier(\n",
              "    (layers): Sequential(\n",
              "      (0): BatchNorm1d(1200, eps=1e-05, momentum=0.1, affine=True, track_running_stats=True)\n",
              "      (1): Dropout(p=0.2)\n",
              "      (2): Linear(in_features=1200, out_features=50, bias=True)\n",
              "      (3): ReLU(inplace)\n",
              "      (4): BatchNorm1d(50, eps=1e-05, momentum=0.1, affine=True, track_running_stats=True)\n",
              "      (5): Dropout(p=0.1)\n",
              "      (6): Linear(in_features=50, out_features=2, bias=True)\n",
              "    )\n",
              "  )\n",
              ")], add_time=True, silent=False, cb_fns_registered=False)"
            ]
          },
          "metadata": {
            "tags": []
          },
          "execution_count": 7
        }
      ]
    },
    {
      "cell_type": "code",
      "metadata": {
        "id": "2etlIzUI0oD5",
        "colab_type": "code",
        "colab": {
          "base_uri": "https://localhost:8080/",
          "height": 375
        },
        "outputId": "a2695be5-1485-4844-9f08-9820b6979587"
      },
      "source": [
        "data_clas.show_batch()"
      ],
      "execution_count": 19,
      "outputs": [
        {
          "output_type": "display_data",
          "data": {
            "text/html": [
              "<table border=\"1\" class=\"dataframe\">\n",
              "  <thead>\n",
              "    <tr style=\"text-align: right;\">\n",
              "      <th>text</th>\n",
              "      <th>target</th>\n",
              "    </tr>\n",
              "  </thead>\n",
              "  <tbody>\n",
              "    <tr>\n",
              "      <td>xxbos xxmaj raising xxmaj victor xxmaj vargas : a xxmaj review \\n \\n  xxmaj you know , xxmaj raising xxmaj victor xxmaj vargas is like sticking your hands into a big , steaming bowl of xxunk . xxmaj it 's warm and gooey , but you 're not sure if it feels right . xxmaj try as i might , no matter how warm and gooey xxmaj raising xxmaj</td>\n",
              "      <td>negative</td>\n",
              "    </tr>\n",
              "    <tr>\n",
              "      <td>xxbos xxup the xxup shop xxup around xxup the xxup corner is one of the sweetest and most feel - good romantic comedies ever made . xxmaj there 's just no getting around that , and it 's hard to actually put one 's feeling for this film into words . xxmaj it 's not one of those films that tries too hard , nor does it come up with</td>\n",
              "      <td>positive</td>\n",
              "    </tr>\n",
              "    <tr>\n",
              "      <td>xxbos xxmaj this film sat on my xxmaj tivo for weeks before i watched it . i dreaded a self - indulgent xxunk flick about relationships gone bad . i was wrong ; this was an xxunk xxunk into the screwed - up xxunk of xxmaj new xxmaj yorkers . \\n \\n  xxmaj the format is the same as xxmaj max xxmaj xxunk ' \" xxmaj la xxmaj ronde</td>\n",
              "      <td>positive</td>\n",
              "    </tr>\n",
              "    <tr>\n",
              "      <td>xxbos xxmaj many neglect that this is n't just a classic due to the fact that it 's the first xxup 3d game , or even the first xxunk - up . xxmaj it 's also one of the first stealth games , one of the xxunk definitely the first ) truly claustrophobic games , and just a pretty well - rounded gaming experience in general . xxmaj with graphics</td>\n",
              "      <td>positive</td>\n",
              "    </tr>\n",
              "    <tr>\n",
              "      <td>xxbos i really wanted to love this show . i truly , honestly did . \\n \\n  xxmaj for the first time , gay viewers get their own version of the \" xxmaj the xxmaj bachelor \" . xxmaj with the help of his obligatory \" hag \" xxmaj xxunk , xxmaj james , a good looking , well - to - do thirty - something has the chance</td>\n",
              "      <td>negative</td>\n",
              "    </tr>\n",
              "  </tbody>\n",
              "</table>"
            ],
            "text/plain": [
              "<IPython.core.display.HTML object>"
            ]
          },
          "metadata": {
            "tags": []
          }
        }
      ]
    },
    {
      "cell_type": "code",
      "metadata": {
        "id": "U3oJRTkQ0tfD",
        "colab_type": "code",
        "colab": {
          "base_uri": "https://localhost:8080/",
          "height": 79
        },
        "outputId": "30bfcdb3-904d-481b-a7ce-572b2bd37cea"
      },
      "source": [
        "\n",
        "learn.fit_one_cycle(1, 1e-2)"
      ],
      "execution_count": 8,
      "outputs": [
        {
          "output_type": "display_data",
          "data": {
            "text/html": [
              "<table border=\"1\" class=\"dataframe\">\n",
              "  <thead>\n",
              "    <tr style=\"text-align: left;\">\n",
              "      <th>epoch</th>\n",
              "      <th>train_loss</th>\n",
              "      <th>valid_loss</th>\n",
              "      <th>accuracy</th>\n",
              "      <th>time</th>\n",
              "    </tr>\n",
              "  </thead>\n",
              "  <tbody>\n",
              "    <tr>\n",
              "      <td>0</td>\n",
              "      <td>0.564125</td>\n",
              "      <td>0.533226</td>\n",
              "      <td>0.731343</td>\n",
              "      <td>00:46</td>\n",
              "    </tr>\n",
              "  </tbody>\n",
              "</table>"
            ],
            "text/plain": [
              "<IPython.core.display.HTML object>"
            ]
          },
          "metadata": {
            "tags": []
          }
        }
      ]
    },
    {
      "cell_type": "code",
      "metadata": {
        "id": "6NVVnvY1A1da",
        "colab_type": "code",
        "colab": {
          "base_uri": "https://localhost:8080/",
          "height": 141
        },
        "outputId": "2d670973-96b6-484a-9ab8-40a4ea344b2b"
      },
      "source": [
        "\n",
        "learn.unfreeze()\n",
        "learn.fit_one_cycle(3, slice(1e-4, 1e-2))\n"
      ],
      "execution_count": 9,
      "outputs": [
        {
          "output_type": "display_data",
          "data": {
            "text/html": [
              "<table border=\"1\" class=\"dataframe\">\n",
              "  <thead>\n",
              "    <tr style=\"text-align: left;\">\n",
              "      <th>epoch</th>\n",
              "      <th>train_loss</th>\n",
              "      <th>valid_loss</th>\n",
              "      <th>accuracy</th>\n",
              "      <th>time</th>\n",
              "    </tr>\n",
              "  </thead>\n",
              "  <tbody>\n",
              "    <tr>\n",
              "      <td>0</td>\n",
              "      <td>0.511699</td>\n",
              "      <td>0.502037</td>\n",
              "      <td>0.741294</td>\n",
              "      <td>01:32</td>\n",
              "    </tr>\n",
              "    <tr>\n",
              "      <td>1</td>\n",
              "      <td>0.442990</td>\n",
              "      <td>0.391530</td>\n",
              "      <td>0.810945</td>\n",
              "      <td>01:30</td>\n",
              "    </tr>\n",
              "    <tr>\n",
              "      <td>2</td>\n",
              "      <td>0.322487</td>\n",
              "      <td>0.381992</td>\n",
              "      <td>0.825871</td>\n",
              "      <td>01:28</td>\n",
              "    </tr>\n",
              "  </tbody>\n",
              "</table>"
            ],
            "text/plain": [
              "<IPython.core.display.HTML object>"
            ]
          },
          "metadata": {
            "tags": []
          }
        }
      ]
    },
    {
      "cell_type": "code",
      "metadata": {
        "id": "uvHVucoe_K3D",
        "colab_type": "code",
        "colab": {}
      },
      "source": [
        ""
      ],
      "execution_count": 0,
      "outputs": []
    },
    {
      "cell_type": "markdown",
      "metadata": {
        "id": "k5r_4TZPE-3s",
        "colab_type": "text"
      },
      "source": [
        "Note to Myself-\n",
        "\n",
        "Due to memory constraints in Colab, I ran the code in 2 blocks. The part upto the language model training, I trained and saved and I restarted the kernel. From there I started again. Also I have reduced the batch size to use for the text classification learner."
      ]
    },
    {
      "cell_type": "code",
      "metadata": {
        "id": "PqtbeV31FQlc",
        "colab_type": "code",
        "colab": {}
      },
      "source": [
        ""
      ],
      "execution_count": 0,
      "outputs": []
    }
  ]
}